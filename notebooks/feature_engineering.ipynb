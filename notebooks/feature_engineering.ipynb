{
 "cells": [
  {
   "cell_type": "code",
   "execution_count": 35,
   "metadata": {},
   "outputs": [],
   "source": [
    "import pandas as pd\n",
    "import numpy as np\n",
    "import matplotlib.pyplot as plt\n",
    "import seaborn as sns\n",
    "import warnings \n",
    "warnings.filterwarnings('ignore')"
   ]
  },
  {
   "cell_type": "code",
   "execution_count": 36,
   "metadata": {},
   "outputs": [],
   "source": [
    "pd.options.display.max_columns = None"
   ]
  },
  {
   "cell_type": "code",
   "execution_count": 37,
   "metadata": {},
   "outputs": [],
   "source": [
    "df = pd.read_excel(\"../data/data_cleaned.xlsx\", index_col=0)"
   ]
  },
  {
   "cell_type": "code",
   "execution_count": 38,
   "metadata": {},
   "outputs": [
    {
     "data": {
      "text/html": [
       "<div>\n",
       "<style scoped>\n",
       "    .dataframe tbody tr th:only-of-type {\n",
       "        vertical-align: middle;\n",
       "    }\n",
       "\n",
       "    .dataframe tbody tr th {\n",
       "        vertical-align: top;\n",
       "    }\n",
       "\n",
       "    .dataframe thead th {\n",
       "        text-align: right;\n",
       "    }\n",
       "</style>\n",
       "<table border=\"1\" class=\"dataframe\">\n",
       "  <thead>\n",
       "    <tr style=\"text-align: right;\">\n",
       "      <th></th>\n",
       "      <th>loan_amnt</th>\n",
       "      <th>term</th>\n",
       "      <th>int_rate</th>\n",
       "      <th>installment</th>\n",
       "      <th>grade</th>\n",
       "      <th>sub_grade</th>\n",
       "      <th>emp_title</th>\n",
       "      <th>emp_length</th>\n",
       "      <th>home_ownership</th>\n",
       "      <th>annual_inc</th>\n",
       "      <th>verification_status</th>\n",
       "      <th>issue_d</th>\n",
       "      <th>loan_status</th>\n",
       "      <th>purpose</th>\n",
       "      <th>title</th>\n",
       "      <th>dti</th>\n",
       "      <th>earliest_cr_line</th>\n",
       "      <th>open_acc</th>\n",
       "      <th>pub_rec</th>\n",
       "      <th>revol_bal</th>\n",
       "      <th>revol_util</th>\n",
       "      <th>total_acc</th>\n",
       "      <th>initial_list_status</th>\n",
       "      <th>application_type</th>\n",
       "      <th>mort_acc</th>\n",
       "      <th>pub_rec_bankruptcies</th>\n",
       "      <th>address</th>\n",
       "    </tr>\n",
       "  </thead>\n",
       "  <tbody>\n",
       "    <tr>\n",
       "      <th>0</th>\n",
       "      <td>10000</td>\n",
       "      <td>36 months</td>\n",
       "      <td>11.44</td>\n",
       "      <td>329.48</td>\n",
       "      <td>B</td>\n",
       "      <td>B4</td>\n",
       "      <td>marketing</td>\n",
       "      <td>10+ years</td>\n",
       "      <td>RENT</td>\n",
       "      <td>117000.0</td>\n",
       "      <td>Not Verified</td>\n",
       "      <td>2015-01-01</td>\n",
       "      <td>Fully Paid</td>\n",
       "      <td>vacation</td>\n",
       "      <td>vacation</td>\n",
       "      <td>26.24</td>\n",
       "      <td>1990-06-01</td>\n",
       "      <td>16</td>\n",
       "      <td>0</td>\n",
       "      <td>36369</td>\n",
       "      <td>41.8</td>\n",
       "      <td>25</td>\n",
       "      <td>w</td>\n",
       "      <td>INDIVIDUAL</td>\n",
       "      <td>0</td>\n",
       "      <td>0</td>\n",
       "      <td>0174 michelle gateway\\nmendozaberg, ok 22690</td>\n",
       "    </tr>\n",
       "    <tr>\n",
       "      <th>1</th>\n",
       "      <td>8000</td>\n",
       "      <td>36 months</td>\n",
       "      <td>11.99</td>\n",
       "      <td>265.68</td>\n",
       "      <td>B</td>\n",
       "      <td>B5</td>\n",
       "      <td>credit analyst</td>\n",
       "      <td>4 years</td>\n",
       "      <td>MORTGAGE</td>\n",
       "      <td>65000.0</td>\n",
       "      <td>Not Verified</td>\n",
       "      <td>2015-01-01</td>\n",
       "      <td>Fully Paid</td>\n",
       "      <td>debt_consolidation</td>\n",
       "      <td>debt consolidation</td>\n",
       "      <td>22.05</td>\n",
       "      <td>2004-07-01</td>\n",
       "      <td>17</td>\n",
       "      <td>0</td>\n",
       "      <td>20131</td>\n",
       "      <td>53.3</td>\n",
       "      <td>27</td>\n",
       "      <td>f</td>\n",
       "      <td>INDIVIDUAL</td>\n",
       "      <td>3</td>\n",
       "      <td>0</td>\n",
       "      <td>1076 carney fort apt. 347\\nloganmouth, sd 05113</td>\n",
       "    </tr>\n",
       "    <tr>\n",
       "      <th>2</th>\n",
       "      <td>15600</td>\n",
       "      <td>36 months</td>\n",
       "      <td>10.49</td>\n",
       "      <td>506.97</td>\n",
       "      <td>B</td>\n",
       "      <td>B3</td>\n",
       "      <td>statistician</td>\n",
       "      <td>&lt; 1 year</td>\n",
       "      <td>RENT</td>\n",
       "      <td>43057.0</td>\n",
       "      <td>Source Verified</td>\n",
       "      <td>2015-01-01</td>\n",
       "      <td>Fully Paid</td>\n",
       "      <td>credit_card</td>\n",
       "      <td>credit card refinancing</td>\n",
       "      <td>12.79</td>\n",
       "      <td>2007-08-01</td>\n",
       "      <td>13</td>\n",
       "      <td>0</td>\n",
       "      <td>11987</td>\n",
       "      <td>92.2</td>\n",
       "      <td>26</td>\n",
       "      <td>f</td>\n",
       "      <td>INDIVIDUAL</td>\n",
       "      <td>0</td>\n",
       "      <td>0</td>\n",
       "      <td>87025 mark dale apt. 269\\nnew sabrina, wv 05113</td>\n",
       "    </tr>\n",
       "    <tr>\n",
       "      <th>3</th>\n",
       "      <td>7200</td>\n",
       "      <td>36 months</td>\n",
       "      <td>6.49</td>\n",
       "      <td>220.65</td>\n",
       "      <td>A</td>\n",
       "      <td>A2</td>\n",
       "      <td>client advocate</td>\n",
       "      <td>6 years</td>\n",
       "      <td>RENT</td>\n",
       "      <td>54000.0</td>\n",
       "      <td>Not Verified</td>\n",
       "      <td>2014-11-01</td>\n",
       "      <td>Fully Paid</td>\n",
       "      <td>credit_card</td>\n",
       "      <td>credit card refinancing</td>\n",
       "      <td>2.60</td>\n",
       "      <td>2006-09-01</td>\n",
       "      <td>6</td>\n",
       "      <td>0</td>\n",
       "      <td>5472</td>\n",
       "      <td>21.5</td>\n",
       "      <td>13</td>\n",
       "      <td>f</td>\n",
       "      <td>INDIVIDUAL</td>\n",
       "      <td>0</td>\n",
       "      <td>0</td>\n",
       "      <td>823 reid ford\\ndelacruzside, ma 00813</td>\n",
       "    </tr>\n",
       "    <tr>\n",
       "      <th>4</th>\n",
       "      <td>24375</td>\n",
       "      <td>60 months</td>\n",
       "      <td>17.27</td>\n",
       "      <td>609.33</td>\n",
       "      <td>C</td>\n",
       "      <td>C5</td>\n",
       "      <td>destiny management inc.</td>\n",
       "      <td>9 years</td>\n",
       "      <td>MORTGAGE</td>\n",
       "      <td>55000.0</td>\n",
       "      <td>Verified</td>\n",
       "      <td>2013-04-01</td>\n",
       "      <td>Charged Off</td>\n",
       "      <td>credit_card</td>\n",
       "      <td>credit card refinance</td>\n",
       "      <td>33.95</td>\n",
       "      <td>1999-03-01</td>\n",
       "      <td>13</td>\n",
       "      <td>0</td>\n",
       "      <td>24584</td>\n",
       "      <td>69.8</td>\n",
       "      <td>43</td>\n",
       "      <td>f</td>\n",
       "      <td>INDIVIDUAL</td>\n",
       "      <td>1</td>\n",
       "      <td>0</td>\n",
       "      <td>679 luna roads\\ngreggshire, va 11650</td>\n",
       "    </tr>\n",
       "  </tbody>\n",
       "</table>\n",
       "</div>"
      ],
      "text/plain": [
       "   loan_amnt        term  int_rate  installment grade sub_grade  \\\n",
       "0      10000   36 months     11.44       329.48     B        B4   \n",
       "1       8000   36 months     11.99       265.68     B        B5   \n",
       "2      15600   36 months     10.49       506.97     B        B3   \n",
       "3       7200   36 months      6.49       220.65     A        A2   \n",
       "4      24375   60 months     17.27       609.33     C        C5   \n",
       "\n",
       "                 emp_title emp_length home_ownership  annual_inc  \\\n",
       "0                marketing  10+ years           RENT    117000.0   \n",
       "1           credit analyst    4 years       MORTGAGE     65000.0   \n",
       "2             statistician   < 1 year           RENT     43057.0   \n",
       "3          client advocate    6 years           RENT     54000.0   \n",
       "4  destiny management inc.    9 years       MORTGAGE     55000.0   \n",
       "\n",
       "  verification_status    issue_d  loan_status             purpose  \\\n",
       "0        Not Verified 2015-01-01   Fully Paid            vacation   \n",
       "1        Not Verified 2015-01-01   Fully Paid  debt_consolidation   \n",
       "2     Source Verified 2015-01-01   Fully Paid         credit_card   \n",
       "3        Not Verified 2014-11-01   Fully Paid         credit_card   \n",
       "4            Verified 2013-04-01  Charged Off         credit_card   \n",
       "\n",
       "                     title    dti earliest_cr_line  open_acc  pub_rec  \\\n",
       "0                 vacation  26.24       1990-06-01        16        0   \n",
       "1       debt consolidation  22.05       2004-07-01        17        0   \n",
       "2  credit card refinancing  12.79       2007-08-01        13        0   \n",
       "3  credit card refinancing   2.60       2006-09-01         6        0   \n",
       "4    credit card refinance  33.95       1999-03-01        13        0   \n",
       "\n",
       "   revol_bal  revol_util  total_acc initial_list_status application_type  \\\n",
       "0      36369        41.8         25                   w       INDIVIDUAL   \n",
       "1      20131        53.3         27                   f       INDIVIDUAL   \n",
       "2      11987        92.2         26                   f       INDIVIDUAL   \n",
       "3       5472        21.5         13                   f       INDIVIDUAL   \n",
       "4      24584        69.8         43                   f       INDIVIDUAL   \n",
       "\n",
       "   mort_acc  pub_rec_bankruptcies  \\\n",
       "0         0                     0   \n",
       "1         3                     0   \n",
       "2         0                     0   \n",
       "3         0                     0   \n",
       "4         1                     0   \n",
       "\n",
       "                                           address  \n",
       "0     0174 michelle gateway\\nmendozaberg, ok 22690  \n",
       "1  1076 carney fort apt. 347\\nloganmouth, sd 05113  \n",
       "2  87025 mark dale apt. 269\\nnew sabrina, wv 05113  \n",
       "3            823 reid ford\\ndelacruzside, ma 00813  \n",
       "4             679 luna roads\\ngreggshire, va 11650  "
      ]
     },
     "execution_count": 38,
     "metadata": {},
     "output_type": "execute_result"
    }
   ],
   "source": [
    "df.head()"
   ]
  },
  {
   "cell_type": "code",
   "execution_count": 39,
   "metadata": {},
   "outputs": [
    {
     "name": "stdout",
     "output_type": "stream",
     "text": [
      "<class 'pandas.core.frame.DataFrame'>\n",
      "Index: 314084 entries, 0 to 396029\n",
      "Data columns (total 27 columns):\n",
      " #   Column                Non-Null Count   Dtype         \n",
      "---  ------                --------------   -----         \n",
      " 0   loan_amnt             314084 non-null  int64         \n",
      " 1   term                  314084 non-null  object        \n",
      " 2   int_rate              314084 non-null  float64       \n",
      " 3   installment           314084 non-null  float64       \n",
      " 4   grade                 314084 non-null  object        \n",
      " 5   sub_grade             314084 non-null  object        \n",
      " 6   emp_title             314084 non-null  object        \n",
      " 7   emp_length            314084 non-null  object        \n",
      " 8   home_ownership        314084 non-null  object        \n",
      " 9   annual_inc            314084 non-null  float64       \n",
      " 10  verification_status   314084 non-null  object        \n",
      " 11  issue_d               314084 non-null  datetime64[ns]\n",
      " 12  loan_status           314084 non-null  object        \n",
      " 13  purpose               314084 non-null  object        \n",
      " 14  title                 314084 non-null  object        \n",
      " 15  dti                   314084 non-null  float64       \n",
      " 16  earliest_cr_line      314084 non-null  datetime64[ns]\n",
      " 17  open_acc              314084 non-null  int64         \n",
      " 18  pub_rec               314084 non-null  int64         \n",
      " 19  revol_bal             314084 non-null  int64         \n",
      " 20  revol_util            314084 non-null  float64       \n",
      " 21  total_acc             314084 non-null  int64         \n",
      " 22  initial_list_status   314084 non-null  object        \n",
      " 23  application_type      314084 non-null  object        \n",
      " 24  mort_acc              314084 non-null  int64         \n",
      " 25  pub_rec_bankruptcies  314084 non-null  int64         \n",
      " 26  address               314084 non-null  object        \n",
      "dtypes: datetime64[ns](2), float64(5), int64(7), object(13)\n",
      "memory usage: 67.1+ MB\n"
     ]
    }
   ],
   "source": [
    "df.info()"
   ]
  },
  {
   "cell_type": "code",
   "execution_count": 40,
   "metadata": {},
   "outputs": [],
   "source": [
    "df[\"issue_month\"] = df[\"issue_d\"].dt.month\n",
    "df[\"issue_year\"] = df[\"issue_d\"].dt.year\n",
    "df[\"earliest_cr_line\"] = df[\"earliest_cr_line\"].dt.year"
   ]
  },
  {
   "cell_type": "code",
   "execution_count": 41,
   "metadata": {},
   "outputs": [],
   "source": [
    "df.drop([\"issue_d\"], axis=1, inplace=True)"
   ]
  },
  {
   "cell_type": "code",
   "execution_count": 42,
   "metadata": {},
   "outputs": [],
   "source": [
    "term_values = {' 36 months': 36, ' 60 months': 60}\n",
    "df['term'] = df.term.map(term_values)"
   ]
  },
  {
   "cell_type": "code",
   "execution_count": 43,
   "metadata": {},
   "outputs": [
    {
     "data": {
      "text/plain": [
       "array(['w', 'f'], dtype=object)"
      ]
     },
     "execution_count": 43,
     "metadata": {},
     "output_type": "execute_result"
    }
   ],
   "source": [
    "df['initial_list_status'].unique()"
   ]
  },
  {
   "cell_type": "code",
   "execution_count": 44,
   "metadata": {},
   "outputs": [],
   "source": [
    "list_status = {'w': 0, 'f': 1}\n",
    "df['initial_list_status'] = df.initial_list_status.map(list_status)"
   ]
  },
  {
   "cell_type": "code",
   "execution_count": 45,
   "metadata": {},
   "outputs": [],
   "source": [
    "dummies = ['grade', 'verification_status' , 'home_ownership',\"application_type\"]\n",
    "df = pd.get_dummies(df, columns=dummies, drop_first=True)"
   ]
  },
  {
   "cell_type": "code",
   "execution_count": 46,
   "metadata": {},
   "outputs": [
    {
     "name": "stdout",
     "output_type": "stream",
     "text": [
      "<class 'pandas.core.frame.DataFrame'>\n",
      "Index: 314084 entries, 0 to 396029\n",
      "Data columns (total 39 columns):\n",
      " #   Column                               Non-Null Count   Dtype  \n",
      "---  ------                               --------------   -----  \n",
      " 0   loan_amnt                            314084 non-null  int64  \n",
      " 1   term                                 314084 non-null  int64  \n",
      " 2   int_rate                             314084 non-null  float64\n",
      " 3   installment                          314084 non-null  float64\n",
      " 4   sub_grade                            314084 non-null  object \n",
      " 5   emp_title                            314084 non-null  object \n",
      " 6   emp_length                           314084 non-null  object \n",
      " 7   annual_inc                           314084 non-null  float64\n",
      " 8   loan_status                          314084 non-null  object \n",
      " 9   purpose                              314084 non-null  object \n",
      " 10  title                                314084 non-null  object \n",
      " 11  dti                                  314084 non-null  float64\n",
      " 12  earliest_cr_line                     314084 non-null  int32  \n",
      " 13  open_acc                             314084 non-null  int64  \n",
      " 14  pub_rec                              314084 non-null  int64  \n",
      " 15  revol_bal                            314084 non-null  int64  \n",
      " 16  revol_util                           314084 non-null  float64\n",
      " 17  total_acc                            314084 non-null  int64  \n",
      " 18  initial_list_status                  314084 non-null  int64  \n",
      " 19  mort_acc                             314084 non-null  int64  \n",
      " 20  pub_rec_bankruptcies                 314084 non-null  int64  \n",
      " 21  address                              314084 non-null  object \n",
      " 22  issue_month                          314084 non-null  int32  \n",
      " 23  issue_year                           314084 non-null  int32  \n",
      " 24  grade_B                              314084 non-null  bool   \n",
      " 25  grade_C                              314084 non-null  bool   \n",
      " 26  grade_D                              314084 non-null  bool   \n",
      " 27  grade_E                              314084 non-null  bool   \n",
      " 28  grade_F                              314084 non-null  bool   \n",
      " 29  grade_G                              314084 non-null  bool   \n",
      " 30  verification_status_Source Verified  314084 non-null  bool   \n",
      " 31  verification_status_Verified         314084 non-null  bool   \n",
      " 32  home_ownership_MORTGAGE              314084 non-null  bool   \n",
      " 33  home_ownership_NONE                  314084 non-null  bool   \n",
      " 34  home_ownership_OTHER                 314084 non-null  bool   \n",
      " 35  home_ownership_OWN                   314084 non-null  bool   \n",
      " 36  home_ownership_RENT                  314084 non-null  bool   \n",
      " 37  application_type_INDIVIDUAL          314084 non-null  bool   \n",
      " 38  application_type_JOINT               314084 non-null  bool   \n",
      "dtypes: bool(15), float64(5), int32(3), int64(9), object(7)\n",
      "memory usage: 60.8+ MB\n"
     ]
    }
   ],
   "source": [
    "df.info()"
   ]
  },
  {
   "cell_type": "code",
   "execution_count": 47,
   "metadata": {},
   "outputs": [],
   "source": [
    "df['zip_code'] = df.address.apply(lambda x: x[8:])"
   ]
  },
  {
   "cell_type": "code",
   "execution_count": 48,
   "metadata": {},
   "outputs": [],
   "source": [
    "df.drop([\"address\"], axis=1, inplace=True)"
   ]
  },
  {
   "cell_type": "code",
   "execution_count": 49,
   "metadata": {},
   "outputs": [],
   "source": [
    "# Mapping of target variable -\n",
    "df['loan_status'] = df.loan_status.map({'Fully Paid':0, 'Charged Off':1})"
   ]
  },
  {
   "cell_type": "code",
   "execution_count": 50,
   "metadata": {},
   "outputs": [
    {
     "data": {
      "text/plain": [
       "emp_length\n",
       "10+ years    100408\n",
       "2 years       30432\n",
       "< 1 year      26856\n",
       "3 years       26824\n",
       "5 years       22632\n",
       "1 year        22042\n",
       "4 years       20298\n",
       "6 years       17851\n",
       "7 years       17679\n",
       "8 years       16168\n",
       "9 years       12894\n",
       "Name: count, dtype: int64"
      ]
     },
     "execution_count": 50,
     "metadata": {},
     "output_type": "execute_result"
    }
   ],
   "source": [
    "df[\"emp_length\"].value_counts()"
   ]
  },
  {
   "cell_type": "code",
   "execution_count": 51,
   "metadata": {},
   "outputs": [],
   "source": [
    "df[\"emp_length\"] = df[\"emp_length\"].apply(lambda x:x.split()[0]).replace({\"<\":0, \"10+\":10})"
   ]
  },
  {
   "cell_type": "code",
   "execution_count": 52,
   "metadata": {},
   "outputs": [
    {
     "data": {
      "text/plain": [
       "emp_length\n",
       "10    100408\n",
       "2      30432\n",
       "0      26856\n",
       "3      26824\n",
       "5      22632\n",
       "1      22042\n",
       "4      20298\n",
       "6      17851\n",
       "7      17679\n",
       "8      16168\n",
       "9      12894\n",
       "Name: count, dtype: int64"
      ]
     },
     "execution_count": 52,
     "metadata": {},
     "output_type": "execute_result"
    }
   ],
   "source": [
    "df[\"emp_length\"].value_counts()"
   ]
  },
  {
   "cell_type": "code",
   "execution_count": 53,
   "metadata": {},
   "outputs": [],
   "source": [
    "# convert bool to int \n",
    "for col in df.select_dtypes(include='bool').columns:\n",
    "    df[col] = df[col].astype(int)"
   ]
  },
  {
   "cell_type": "code",
   "execution_count": 54,
   "metadata": {},
   "outputs": [],
   "source": [
    "df[\"emp_length\"] = df[\"emp_length\"].astype(int)"
   ]
  },
  {
   "cell_type": "code",
   "execution_count": 55,
   "metadata": {},
   "outputs": [
    {
     "name": "stdout",
     "output_type": "stream",
     "text": [
      "<class 'pandas.core.frame.DataFrame'>\n",
      "Index: 314084 entries, 0 to 396029\n",
      "Data columns (total 39 columns):\n",
      " #   Column                               Non-Null Count   Dtype  \n",
      "---  ------                               --------------   -----  \n",
      " 0   loan_amnt                            314084 non-null  int64  \n",
      " 1   term                                 314084 non-null  int64  \n",
      " 2   int_rate                             314084 non-null  float64\n",
      " 3   installment                          314084 non-null  float64\n",
      " 4   sub_grade                            314084 non-null  object \n",
      " 5   emp_title                            314084 non-null  object \n",
      " 6   emp_length                           314084 non-null  int64  \n",
      " 7   annual_inc                           314084 non-null  float64\n",
      " 8   loan_status                          314084 non-null  int64  \n",
      " 9   purpose                              314084 non-null  object \n",
      " 10  title                                314084 non-null  object \n",
      " 11  dti                                  314084 non-null  float64\n",
      " 12  earliest_cr_line                     314084 non-null  int32  \n",
      " 13  open_acc                             314084 non-null  int64  \n",
      " 14  pub_rec                              314084 non-null  int64  \n",
      " 15  revol_bal                            314084 non-null  int64  \n",
      " 16  revol_util                           314084 non-null  float64\n",
      " 17  total_acc                            314084 non-null  int64  \n",
      " 18  initial_list_status                  314084 non-null  int64  \n",
      " 19  mort_acc                             314084 non-null  int64  \n",
      " 20  pub_rec_bankruptcies                 314084 non-null  int64  \n",
      " 21  issue_month                          314084 non-null  int32  \n",
      " 22  issue_year                           314084 non-null  int32  \n",
      " 23  grade_B                              314084 non-null  int64  \n",
      " 24  grade_C                              314084 non-null  int64  \n",
      " 25  grade_D                              314084 non-null  int64  \n",
      " 26  grade_E                              314084 non-null  int64  \n",
      " 27  grade_F                              314084 non-null  int64  \n",
      " 28  grade_G                              314084 non-null  int64  \n",
      " 29  verification_status_Source Verified  314084 non-null  int64  \n",
      " 30  verification_status_Verified         314084 non-null  int64  \n",
      " 31  home_ownership_MORTGAGE              314084 non-null  int64  \n",
      " 32  home_ownership_NONE                  314084 non-null  int64  \n",
      " 33  home_ownership_OTHER                 314084 non-null  int64  \n",
      " 34  home_ownership_OWN                   314084 non-null  int64  \n",
      " 35  home_ownership_RENT                  314084 non-null  int64  \n",
      " 36  application_type_INDIVIDUAL          314084 non-null  int64  \n",
      " 37  application_type_JOINT               314084 non-null  int64  \n",
      " 38  zip_code                             314084 non-null  object \n",
      "dtypes: float64(5), int32(3), int64(26), object(5)\n",
      "memory usage: 92.3+ MB\n"
     ]
    }
   ],
   "source": [
    "df.info()"
   ]
  },
  {
   "cell_type": "code",
   "execution_count": 56,
   "metadata": {},
   "outputs": [],
   "source": [
    "for col in df.select_dtypes(include='object').columns:\n",
    "    df[col] = df.groupby(col)[\"loan_status\"].transform(\"mean\")"
   ]
  },
  {
   "cell_type": "code",
   "execution_count": 57,
   "metadata": {},
   "outputs": [
    {
     "name": "stdout",
     "output_type": "stream",
     "text": [
      "<class 'pandas.core.frame.DataFrame'>\n",
      "Index: 314084 entries, 0 to 396029\n",
      "Data columns (total 39 columns):\n",
      " #   Column                               Non-Null Count   Dtype  \n",
      "---  ------                               --------------   -----  \n",
      " 0   loan_amnt                            314084 non-null  int64  \n",
      " 1   term                                 314084 non-null  int64  \n",
      " 2   int_rate                             314084 non-null  float64\n",
      " 3   installment                          314084 non-null  float64\n",
      " 4   sub_grade                            314084 non-null  float64\n",
      " 5   emp_title                            314084 non-null  float64\n",
      " 6   emp_length                           314084 non-null  int64  \n",
      " 7   annual_inc                           314084 non-null  float64\n",
      " 8   loan_status                          314084 non-null  int64  \n",
      " 9   purpose                              314084 non-null  float64\n",
      " 10  title                                314084 non-null  float64\n",
      " 11  dti                                  314084 non-null  float64\n",
      " 12  earliest_cr_line                     314084 non-null  int32  \n",
      " 13  open_acc                             314084 non-null  int64  \n",
      " 14  pub_rec                              314084 non-null  int64  \n",
      " 15  revol_bal                            314084 non-null  int64  \n",
      " 16  revol_util                           314084 non-null  float64\n",
      " 17  total_acc                            314084 non-null  int64  \n",
      " 18  initial_list_status                  314084 non-null  int64  \n",
      " 19  mort_acc                             314084 non-null  int64  \n",
      " 20  pub_rec_bankruptcies                 314084 non-null  int64  \n",
      " 21  issue_month                          314084 non-null  int32  \n",
      " 22  issue_year                           314084 non-null  int32  \n",
      " 23  grade_B                              314084 non-null  int64  \n",
      " 24  grade_C                              314084 non-null  int64  \n",
      " 25  grade_D                              314084 non-null  int64  \n",
      " 26  grade_E                              314084 non-null  int64  \n",
      " 27  grade_F                              314084 non-null  int64  \n",
      " 28  grade_G                              314084 non-null  int64  \n",
      " 29  verification_status_Source Verified  314084 non-null  int64  \n",
      " 30  verification_status_Verified         314084 non-null  int64  \n",
      " 31  home_ownership_MORTGAGE              314084 non-null  int64  \n",
      " 32  home_ownership_NONE                  314084 non-null  int64  \n",
      " 33  home_ownership_OTHER                 314084 non-null  int64  \n",
      " 34  home_ownership_OWN                   314084 non-null  int64  \n",
      " 35  home_ownership_RENT                  314084 non-null  int64  \n",
      " 36  application_type_INDIVIDUAL          314084 non-null  int64  \n",
      " 37  application_type_JOINT               314084 non-null  int64  \n",
      " 38  zip_code                             314084 non-null  float64\n",
      "dtypes: float64(10), int32(3), int64(26)\n",
      "memory usage: 92.3 MB\n"
     ]
    }
   ],
   "source": [
    "df.info()"
   ]
  },
  {
   "cell_type": "code",
   "execution_count": 58,
   "metadata": {},
   "outputs": [
    {
     "data": {
      "text/plain": [
       "(314084, 39)"
      ]
     },
     "execution_count": 58,
     "metadata": {},
     "output_type": "execute_result"
    }
   ],
   "source": [
    "df.shape"
   ]
  },
  {
   "cell_type": "code",
   "execution_count": 59,
   "metadata": {},
   "outputs": [],
   "source": [
    "df.to_excel(\"../data/data_fe.xlsx\")"
   ]
  },
  {
   "cell_type": "code",
   "execution_count": null,
   "metadata": {},
   "outputs": [],
   "source": []
  }
 ],
 "metadata": {
  "kernelspec": {
   "display_name": "venv",
   "language": "python",
   "name": "python3"
  },
  "language_info": {
   "codemirror_mode": {
    "name": "ipython",
    "version": 3
   },
   "file_extension": ".py",
   "mimetype": "text/x-python",
   "name": "python",
   "nbconvert_exporter": "python",
   "pygments_lexer": "ipython3",
   "version": "3.11.0"
  }
 },
 "nbformat": 4,
 "nbformat_minor": 2
}
